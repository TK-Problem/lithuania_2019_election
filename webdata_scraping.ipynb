{
 "cells": [
  {
   "cell_type": "markdown",
   "metadata": {},
   "source": [
    "# Data scraping notebook\n",
    "\n",
    "To save time manually downloading data of different websites, I used Selenium webdriver and Beautfoulsoup packages to parce and process HTML into Pandas DataFrames."
   ]
  },
  {
   "cell_type": "markdown",
   "metadata": {},
   "source": [
    "## Import libraries"
   ]
  },
  {
   "cell_type": "code",
   "execution_count": 1,
   "metadata": {},
   "outputs": [],
   "source": [
    "from selenium import webdriver\n",
    "import bs4\n",
    "import numpy as np\n",
    "import pandas as pd"
   ]
  },
  {
   "cell_type": "code",
   "execution_count": 2,
   "metadata": {},
   "outputs": [],
   "source": [
    "# Initiate webdriver with wich data will be scraped\n",
    "driver = webdriver.Firefox(executable_path=r\"geckodriver.exe\")"
   ]
  },
  {
   "cell_type": "markdown",
   "metadata": {},
   "source": [
    "# Count recent election dates from various countries"
   ]
  },
  {
   "cell_type": "code",
   "execution_count": 3,
   "metadata": {},
   "outputs": [],
   "source": [
    "def get_election_dates(soup, country):\n",
    "    \"\"\"\n",
    "    Input:\n",
    "        soup- BS4 soup element\n",
    "        country- string, country name\n",
    "    Output:\n",
    "        list- each list element is a list [Year, Election Type, Country]\n",
    "    \"\"\"\n",
    "    election_types = {1: \"Parlament\", 2: \"Presidential\", 3: \"Euro Parlament\", 4: \"Referendums\"}\n",
    "\n",
    "    _data_list = list()\n",
    "    rows = soup.find(\"div\", {\"id\": \"sidebar\"}).table.tbody.findAll(\"tr\")\n",
    "    for row in rows:\n",
    "        cols = row.findAll('td')\n",
    "        for i in range(5):\n",
    "            try:\n",
    "                # check if img is present in column element\n",
    "                cols[i].a.img\n",
    "                # print election type\n",
    "                e_type = election_types[i]\n",
    "                e_year = int(cols[0].text)\n",
    "                _data_list.append([e_year, e_type, country])\n",
    "            except:\n",
    "                continue\n",
    "                \n",
    "    return _data_list"
   ]
  },
  {
   "cell_type": "code",
   "execution_count": 5,
   "metadata": {},
   "outputs": [
    {
     "data": {
      "text/html": [
       "<div>\n",
       "<style scoped>\n",
       "    .dataframe tbody tr th:only-of-type {\n",
       "        vertical-align: middle;\n",
       "    }\n",
       "\n",
       "    .dataframe tbody tr th {\n",
       "        vertical-align: top;\n",
       "    }\n",
       "\n",
       "    .dataframe thead th {\n",
       "        text-align: right;\n",
       "    }\n",
       "</style>\n",
       "<table border=\"1\" class=\"dataframe\">\n",
       "  <thead>\n",
       "    <tr style=\"text-align: right;\">\n",
       "      <th></th>\n",
       "      <th>Year</th>\n",
       "      <th>Election type</th>\n",
       "      <th>Country</th>\n",
       "    </tr>\n",
       "  </thead>\n",
       "  <tbody>\n",
       "    <tr>\n",
       "      <th>0</th>\n",
       "      <td>1992</td>\n",
       "      <td>Referendums</td>\n",
       "      <td>France</td>\n",
       "    </tr>\n",
       "    <tr>\n",
       "      <th>1</th>\n",
       "      <td>1993</td>\n",
       "      <td>Parlament</td>\n",
       "      <td>France</td>\n",
       "    </tr>\n",
       "    <tr>\n",
       "      <th>2</th>\n",
       "      <td>1994</td>\n",
       "      <td>Euro Parlament</td>\n",
       "      <td>France</td>\n",
       "    </tr>\n",
       "    <tr>\n",
       "      <th>3</th>\n",
       "      <td>1995</td>\n",
       "      <td>Presidential</td>\n",
       "      <td>France</td>\n",
       "    </tr>\n",
       "    <tr>\n",
       "      <th>4</th>\n",
       "      <td>1997</td>\n",
       "      <td>Parlament</td>\n",
       "      <td>France</td>\n",
       "    </tr>\n",
       "  </tbody>\n",
       "</table>\n",
       "</div>"
      ],
      "text/plain": [
       "   Year   Election type Country\n",
       "0  1992     Referendums  France\n",
       "1  1993       Parlament  France\n",
       "2  1994  Euro Parlament  France\n",
       "3  1995    Presidential  France\n",
       "4  1997       Parlament  France"
      ]
     },
     "execution_count": 5,
     "metadata": {},
     "output_type": "execute_result"
    }
   ],
   "source": [
    "country_dict = {\"France\": \"http://www.nsd.uib.no/european_election_database/country/france/\",\n",
    "               \"Finland\": \"http://www.nsd.uib.no/european_election_database/country/finland/\",\n",
    "               \"Lithuania\": \"http://www.nsd.uib.no/european_election_database/country/lithuania/\",\n",
    "               \"Austria\": \"http://www.nsd.uib.no/european_election_database/country/austria/\"}\n",
    "\n",
    "data_list = list()\n",
    "# iterate over country dictonary keys\n",
    "for country_name in country_dict.keys():\n",
    "    # load neccesary page\n",
    "    driver.get(country_dict[country_name])\n",
    "    # read election years and types for each country\n",
    "    soup = bs4.BeautifulSoup(driver.page_source)\n",
    "    data_list += get_election_dates(soup, country_name)\n",
    "df = pd.DataFrame(data_list, columns=[\"Year\", \"Election type\", \"Country\"])\n",
    "df.to_csv(\"election_years.csv\")\n",
    "df.head()"
   ]
  },
  {
   "cell_type": "code",
   "execution_count": 64,
   "metadata": {},
   "outputs": [],
   "source": []
  },
  {
   "cell_type": "markdown",
   "metadata": {},
   "source": [
    "## Turn off webdriver"
   ]
  },
  {
   "cell_type": "code",
   "execution_count": 6,
   "metadata": {},
   "outputs": [],
   "source": [
    "driver.quit()"
   ]
  },
  {
   "cell_type": "code",
   "execution_count": null,
   "metadata": {},
   "outputs": [],
   "source": []
  }
 ],
 "metadata": {
  "kernelspec": {
   "display_name": "Python 3",
   "language": "python",
   "name": "python3"
  },
  "language_info": {
   "codemirror_mode": {
    "name": "ipython",
    "version": 3
   },
   "file_extension": ".py",
   "mimetype": "text/x-python",
   "name": "python",
   "nbconvert_exporter": "python",
   "pygments_lexer": "ipython3",
   "version": "3.6.6"
  }
 },
 "nbformat": 4,
 "nbformat_minor": 2
}
