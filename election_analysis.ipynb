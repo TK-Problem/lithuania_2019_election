{
 "cells": [
  {
   "cell_type": "markdown",
   "metadata": {
    "collapsed": true
   },
   "source": [
    "# Lithuania 2019 election prediction\n",
    "\n",
    "In 2019 there will be 3 elections in Lithuania (small country in Europe):\n",
    "\n",
    "* 3 March of 2019 elections to the Municipal Councils,\n",
    "* 12 May of 2019  Presidential elections,\n",
    "* 26 May of 2019 elections to the European Parliament.\n",
    "\n",
    "This notebook aims to analyze historical election data and try to predict best strategy for 2019 elections."
   ]
  },
  {
   "cell_type": "markdown",
   "metadata": {},
   "source": [
    "## Import libraries"
   ]
  },
  {
   "cell_type": "code",
   "execution_count": 1,
   "metadata": {},
   "outputs": [],
   "source": [
    "import pandas as pd\n",
    "import numpy as np\n",
    "import matplotlib.pyplot as plt\n",
    "import seaborn as sns"
   ]
  },
  {
   "cell_type": "markdown",
   "metadata": {},
   "source": [
    "## Introduction\n",
    "\n",
    "### 1. Joining EU\n",
    "\n",
    "Let's first compared Lithuania in the context of EU member states."
   ]
  },
  {
   "cell_type": "code",
   "execution_count": 6,
   "metadata": {},
   "outputs": [
    {
     "data": {
      "text/html": [
       "<div>\n",
       "<style scoped>\n",
       "    .dataframe tbody tr th:only-of-type {\n",
       "        vertical-align: middle;\n",
       "    }\n",
       "\n",
       "    .dataframe tbody tr th {\n",
       "        vertical-align: top;\n",
       "    }\n",
       "\n",
       "    .dataframe thead th {\n",
       "        text-align: right;\n",
       "    }\n",
       "</style>\n",
       "<table border=\"1\" class=\"dataframe\">\n",
       "  <thead>\n",
       "    <tr style=\"text-align: right;\">\n",
       "      <th></th>\n",
       "      <th>Country_name</th>\n",
       "      <th>Modern_country_year</th>\n",
       "      <th>Join_EU</th>\n",
       "    </tr>\n",
       "  </thead>\n",
       "  <tbody>\n",
       "    <tr>\n",
       "      <th>0</th>\n",
       "      <td>Austria</td>\n",
       "      <td>1955</td>\n",
       "      <td>1995</td>\n",
       "    </tr>\n",
       "    <tr>\n",
       "      <th>1</th>\n",
       "      <td>Belgium</td>\n",
       "      <td>1919</td>\n",
       "      <td>1958</td>\n",
       "    </tr>\n",
       "    <tr>\n",
       "      <th>2</th>\n",
       "      <td>Bulgaria</td>\n",
       "      <td>1989</td>\n",
       "      <td>2007</td>\n",
       "    </tr>\n",
       "    <tr>\n",
       "      <th>3</th>\n",
       "      <td>Croatia</td>\n",
       "      <td>1991</td>\n",
       "      <td>2013</td>\n",
       "    </tr>\n",
       "    <tr>\n",
       "      <th>4</th>\n",
       "      <td>Cyprus</td>\n",
       "      <td>1960</td>\n",
       "      <td>2004</td>\n",
       "    </tr>\n",
       "  </tbody>\n",
       "</table>\n",
       "</div>"
      ],
      "text/plain": [
       "  Country_name  Modern_country_year  Join_EU\n",
       "0      Austria                 1955     1995\n",
       "1      Belgium                 1919     1958\n",
       "2     Bulgaria                 1989     2007\n",
       "3      Croatia                 1991     2013\n",
       "4       Cyprus                 1960     2004"
      ]
     },
     "execution_count": 6,
     "metadata": {},
     "output_type": "execute_result"
    }
   ],
   "source": [
    "df_EU_members = pd.read_csv(\"EU_member_info.csv\")\n",
    "df_EU_members.head()"
   ]
  },
  {
   "cell_type": "markdown",
   "metadata": {},
   "source": [
    "Let's add new column, which categorizes countries by the time they joined EU: (i) founders, (ii) cold war era or (iii) post soviet collapse."
   ]
  },
  {
   "cell_type": "code",
   "execution_count": 8,
   "metadata": {},
   "outputs": [
    {
     "data": {
      "text/html": [
       "<div>\n",
       "<style scoped>\n",
       "    .dataframe tbody tr th:only-of-type {\n",
       "        vertical-align: middle;\n",
       "    }\n",
       "\n",
       "    .dataframe tbody tr th {\n",
       "        vertical-align: top;\n",
       "    }\n",
       "\n",
       "    .dataframe thead th {\n",
       "        text-align: right;\n",
       "    }\n",
       "</style>\n",
       "<table border=\"1\" class=\"dataframe\">\n",
       "  <thead>\n",
       "    <tr style=\"text-align: right;\">\n",
       "      <th></th>\n",
       "      <th>Country_name</th>\n",
       "      <th>Modern_country_year</th>\n",
       "      <th>Join_EU</th>\n",
       "      <th>Join Period</th>\n",
       "    </tr>\n",
       "  </thead>\n",
       "  <tbody>\n",
       "    <tr>\n",
       "      <th>0</th>\n",
       "      <td>Austria</td>\n",
       "      <td>1955</td>\n",
       "      <td>1995</td>\n",
       "      <td>Post USSR collapse</td>\n",
       "    </tr>\n",
       "    <tr>\n",
       "      <th>1</th>\n",
       "      <td>Belgium</td>\n",
       "      <td>1919</td>\n",
       "      <td>1958</td>\n",
       "      <td>Founders</td>\n",
       "    </tr>\n",
       "    <tr>\n",
       "      <th>2</th>\n",
       "      <td>Bulgaria</td>\n",
       "      <td>1989</td>\n",
       "      <td>2007</td>\n",
       "      <td>Post USSR collapse</td>\n",
       "    </tr>\n",
       "    <tr>\n",
       "      <th>3</th>\n",
       "      <td>Croatia</td>\n",
       "      <td>1991</td>\n",
       "      <td>2013</td>\n",
       "      <td>Post USSR collapse</td>\n",
       "    </tr>\n",
       "    <tr>\n",
       "      <th>4</th>\n",
       "      <td>Cyprus</td>\n",
       "      <td>1960</td>\n",
       "      <td>2004</td>\n",
       "      <td>Post USSR collapse</td>\n",
       "    </tr>\n",
       "  </tbody>\n",
       "</table>\n",
       "</div>"
      ],
      "text/plain": [
       "  Country_name  Modern_country_year  Join_EU         Join Period\n",
       "0      Austria                 1955     1995  Post USSR collapse\n",
       "1      Belgium                 1919     1958            Founders\n",
       "2     Bulgaria                 1989     2007  Post USSR collapse\n",
       "3      Croatia                 1991     2013  Post USSR collapse\n",
       "4       Cyprus                 1960     2004  Post USSR collapse"
      ]
     },
     "execution_count": 8,
     "metadata": {},
     "output_type": "execute_result"
    }
   ],
   "source": [
    "def join_period(year):\n",
    "    \"\"\"\n",
    "    Input:\n",
    "        year: integer, year country joined EU\n",
    "    Output:\n",
    "        period: string, period at which country joined EU\n",
    "    \"\"\"\n",
    "    if year == 1958:\n",
    "        return \"Founders\"\n",
    "    elif year < 1990:\n",
    "        return \"Cold War\"\n",
    "    else:\n",
    "        return \"Post USSR collapse\"\n",
    "        \n",
    "df_EU_members[\"Join Period\"] = df_EU_members['Join_EU'].apply(join_period)\n",
    "df_EU_members.head()"
   ]
  },
  {
   "cell_type": "code",
   "execution_count": 9,
   "metadata": {},
   "outputs": [
    {
     "data": {
      "image/png": "[encoded data removed]",
      "text/plain": [
       "<Figure size 1008x360 with 1 Axes>"
      ]
     },
     "metadata": {
      "needs_background": "light"
     },
     "output_type": "display_data"
    }
   ],
   "source": [
    "fig, ax = plt.subplots(figsize=(14, 5)) \n",
    "ax = sns.scatterplot(x=\"Join_EU\", y=\"Modern_country_year\", hue=\"Join Period\", data=df_EU_members,\n",
    "                     y_jitter=.2, hue_order=[\"Founders\", \"Cold War\", \"Post USSR collapse\"]);\n",
    "\n",
    "ax.legend(loc=4);"
   ]
  },
  {
   "cell_type": "code",
   "execution_count": 11,
   "metadata": {},
   "outputs": [
    {
     "data": {
      "text/html": [
       "<div>\n",
       "<style scoped>\n",
       "    .dataframe tbody tr th:only-of-type {\n",
       "        vertical-align: middle;\n",
       "    }\n",
       "\n",
       "    .dataframe tbody tr th {\n",
       "        vertical-align: top;\n",
       "    }\n",
       "\n",
       "    .dataframe thead th {\n",
       "        text-align: right;\n",
       "    }\n",
       "</style>\n",
       "<table border=\"1\" class=\"dataframe\">\n",
       "  <thead>\n",
       "    <tr style=\"text-align: right;\">\n",
       "      <th></th>\n",
       "      <th>Country_name</th>\n",
       "      <th>Modern_country_year</th>\n",
       "      <th>Join_EU</th>\n",
       "      <th>Join Period</th>\n",
       "    </tr>\n",
       "  </thead>\n",
       "  <tbody>\n",
       "    <tr>\n",
       "      <th>27</th>\n",
       "      <td>United Kingdom</td>\n",
       "      <td>1800</td>\n",
       "      <td>1973</td>\n",
       "      <td>Cold War</td>\n",
       "    </tr>\n",
       "  </tbody>\n",
       "</table>\n",
       "</div>"
      ],
      "text/plain": [
       "      Country_name  Modern_country_year  Join_EU Join Period\n",
       "27  United Kingdom                 1800     1973    Cold War"
      ]
     },
     "execution_count": 11,
     "metadata": {},
     "output_type": "execute_result"
    }
   ],
   "source": [
    "df_EU_members[df_EU_members.Modern_country_year <1900]"
   ]
  },
  {
   "cell_type": "markdown",
   "metadata": {},
   "source": [
    "There is an outlier with Democracy year 1800. Not suprisingly it is United Kingdom."
   ]
  },
  {
   "cell_type": "code",
   "execution_count": 19,
   "metadata": {},
   "outputs": [
    {
     "data": {
      "image/png": "[encoded data removed]",
      "text/plain": [
       "<Figure size 864x360 with 1 Axes>"
      ]
     },
     "metadata": {
      "needs_background": "light"
     },
     "output_type": "display_data"
    }
   ],
   "source": [
    "fig, ax = plt.subplots(figsize=(12, 5)) \n",
    "\n",
    "# make regplot tickers very small\n",
    "ax = sns.regplot(x=\"Join_EU\", y=\"Modern_country_year\", scatter_kws={'s':0.2}, color='#808080',\n",
    "                 data=df_EU_members[df_EU_members.Modern_country_year>1900])\n",
    "ax = sns.scatterplot(x=\"Join_EU\", y=\"Modern_country_year\", hue=\"Join Period\", palette=\"colorblind\",\n",
    "                     data=df_EU_members[df_EU_members.Modern_country_year>1900],\n",
    "                     hue_order=[\"Founders\", \"Cold War\", \"Post USSR collapse\"]);\n",
    "\n",
    "ax.set_ylabel(\"Year modern state was established/restored\", fontsize=12)\n",
    "ax.set_xlabel(\"Year country joined EU\", fontsize=12)\n",
    "ax.set_xlim(1955,2015);\n",
    "fig.savefig(\"fig_1_eu_members.svg\", dpi=300, format='svg')"
   ]
  },
  {
   "cell_type": "code",
   "execution_count": 22,
   "metadata": {},
   "outputs": [
    {
     "data": {
      "text/plain": [
       "0.773563887011156"
      ]
     },
     "execution_count": 22,
     "metadata": {},
     "output_type": "execute_result"
    }
   ],
   "source": [
    "# Calculate pearson correlation coefficient\n",
    "np.corrcoef(df_EU_members[df_EU_members.Modern_country_year>1900]['Modern_country_year'].values,\n",
    "           df_EU_members[df_EU_members.Modern_country_year>1900]['Join_EU'].values)[0][1]"
   ]
  },
  {
   "cell_type": "markdown",
   "metadata": {},
   "source": [
    "### 2. Election frequency"
   ]
  },
  {
   "cell_type": "code",
   "execution_count": 50,
   "metadata": {},
   "outputs": [
    {
     "data": {
      "text/html": [
       "<div>\n",
       "<style scoped>\n",
       "    .dataframe tbody tr th:only-of-type {\n",
       "        vertical-align: middle;\n",
       "    }\n",
       "\n",
       "    .dataframe tbody tr th {\n",
       "        vertical-align: top;\n",
       "    }\n",
       "\n",
       "    .dataframe thead th {\n",
       "        text-align: right;\n",
       "    }\n",
       "</style>\n",
       "<table border=\"1\" class=\"dataframe\">\n",
       "  <thead>\n",
       "    <tr style=\"text-align: right;\">\n",
       "      <th></th>\n",
       "      <th>Year</th>\n",
       "      <th>Election type</th>\n",
       "      <th>Country</th>\n",
       "    </tr>\n",
       "  </thead>\n",
       "  <tbody>\n",
       "    <tr>\n",
       "      <th>0</th>\n",
       "      <td>1992</td>\n",
       "      <td>Referendums</td>\n",
       "      <td>France</td>\n",
       "    </tr>\n",
       "    <tr>\n",
       "      <th>1</th>\n",
       "      <td>1993</td>\n",
       "      <td>Parlament</td>\n",
       "      <td>France</td>\n",
       "    </tr>\n",
       "    <tr>\n",
       "      <th>2</th>\n",
       "      <td>1994</td>\n",
       "      <td>Euro Parlament</td>\n",
       "      <td>France</td>\n",
       "    </tr>\n",
       "    <tr>\n",
       "      <th>3</th>\n",
       "      <td>1995</td>\n",
       "      <td>Presidential</td>\n",
       "      <td>France</td>\n",
       "    </tr>\n",
       "    <tr>\n",
       "      <th>4</th>\n",
       "      <td>1997</td>\n",
       "      <td>Parlament</td>\n",
       "      <td>France</td>\n",
       "    </tr>\n",
       "  </tbody>\n",
       "</table>\n",
       "</div>"
      ],
      "text/plain": [
       "   Year   Election type Country\n",
       "0  1992     Referendums  France\n",
       "1  1993       Parlament  France\n",
       "2  1994  Euro Parlament  France\n",
       "3  1995    Presidential  France\n",
       "4  1997       Parlament  France"
      ]
     },
     "execution_count": 50,
     "metadata": {},
     "output_type": "execute_result"
    }
   ],
   "source": [
    "df_election_years = pd.read_csv(\"election_years.csv\", index_col=0)\n",
    "# df_election_years[\"Election type num\"] = df_election_years[\"Election type\"].replace({\"Referendums\": 4,\n",
    "#                                                                                     \"Parlament\": 1,\n",
    "#                                                                                     \"Euro Parlament\": 2,\n",
    "#                                                                                     \"Presidential\": 3})\n",
    "df_election_years.head()"
   ]
  },
  {
   "cell_type": "code",
   "execution_count": 111,
   "metadata": {},
   "outputs": [],
   "source": [
    "def plot_election_dates(df):\n",
    "    \"\"\"\n",
    "    Input:\n",
    "        df- pandas DataFrame, columns [year, election type, country]\n",
    "    Output:\n",
    "        figure\n",
    "    \"\"\"\n",
    "    df[\"Election type num\"] = df[\"Election type\"].replace({\"Referendums\": 4,\n",
    "                                                           \"Parlament\": 1,\n",
    "                                                           \"Euro Parlament\": 2,\n",
    "                                                           \"Presidential\": 3})\n",
    "    fig, ((ax1, ax2), (ax3, ax4)) = plt.subplots(nrows=2, ncols=2, figsize=(14, 12), sharey=True) \n",
    "    # Lithuania\n",
    "    _df = df[df.Country == \"Lithuania\"]\n",
    "    ax1.scatter(_df[\"Year\"], _df[\"Election type num\"], s=100)\n",
    "    ax1.set_yticks([1, 2, 3, 4])\n",
    "    ax1.set_xticks([1990, 1995, 2000, 2005, 2010, 2015])\n",
    "    ax1.set_xlim(1987.5,2017.5)\n",
    "    ax1.set_yticklabels(('Parlament', 'Euro Parlament', 'Presidential', 'Referendums'))\n",
    "    ax1.set_title(\"Lithuania\")\n",
    "    \n",
    "    # France\n",
    "    _df = df[df.Country == \"France\"]\n",
    "    ax2.scatter(_df[\"Year\"], _df[\"Election type num\"], s=100)\n",
    "    ax2.set_yticks([1, 2, 3, 4])\n",
    "    ax2.set_xticks([1990, 1995, 2000, 2005, 2010, 2015])\n",
    "    ax2.set_xlim(1987.5,2017.5)\n",
    "    ax2.set_yticklabels(('Parlament', 'Euro Parlament', 'Presidential', 'Referendums'))\n",
    "    ax2.set_title(\"France\")\n",
    "    \n",
    "    # Finland\n",
    "    _df = df[df.Country == \"Finland\"]\n",
    "    ax3.scatter(_df[\"Year\"], _df[\"Election type num\"], s=100)\n",
    "    ax3.set_yticks([1, 2, 3, 4])\n",
    "    ax3.set_xticks([1990, 1995, 2000, 2005, 2010, 2015])\n",
    "    ax3.set_xlim(1987.5,2017.5)\n",
    "    ax3.set_yticklabels(('Parlament', 'Euro Parlament', 'Presidential', 'Referendums'))\n",
    "    ax3.set_title(\"Finland\")\n",
    "    \n",
    "    # Austria\n",
    "    _df = df[df.Country == \"Austria\"]\n",
    "    ax4.scatter(_df[\"Year\"], _df[\"Election type num\"], s=100)\n",
    "    ax4.set_yticks([1, 2, 3, 4])\n",
    "    ax4.set_xticks([1990, 1995, 2000, 2005, 2010, 2015])\n",
    "    ax4.set_xlim(1987.5,2017.5)\n",
    "    ax4.set_yticklabels(('Parlament', 'Euro Parlament', 'Presidential', 'Referendums'))\n",
    "    ax4.set_title(\"Austria\")    \n",
    "    \n",
    "    # remove vertical spacing\n",
    "    fig.subplots_adjust(wspace=0)"
   ]
  },
  {
   "cell_type": "code",
   "execution_count": 112,
   "metadata": {
    "scrolled": false
   },
   "outputs": [
    {
     "data": {
      "image/png": "[encoded data removed]",
      "text/plain": [
       "<Figure size 1008x864 with 4 Axes>"
      ]
     },
     "metadata": {
      "needs_background": "light"
     },
     "output_type": "display_data"
    }
   ],
   "source": [
    "plot_election_dates(df_election_years)"
   ]
  },
  {
   "cell_type": "code",
   "execution_count": null,
   "metadata": {},
   "outputs": [],
   "source": []
  },
  {
   "cell_type": "code",
   "execution_count": null,
   "metadata": {},
   "outputs": [],
   "source": []
  }
 ],
 "metadata": {
  "kernelspec": {
   "display_name": "Python 3",
   "language": "python",
   "name": "python3"
  },
  "language_info": {
   "codemirror_mode": {
    "name": "ipython",
    "version": 3
   },
   "file_extension": ".py",
   "mimetype": "text/x-python",
   "name": "python",
   "nbconvert_exporter": "python",
   "pygments_lexer": "ipython3",
   "version": "3.6.6"
  }
 },
 "nbformat": 4,
 "nbformat_minor": 1
}
