{
 "cells": [
  {
   "cell_type": "markdown",
   "metadata": {
    "collapsed": true
   },
   "source": [
    "# Lithuania 2019 election prediction\n",
    "\n",
    "In 2019 there will be 3 elections in Lithuania (small country in Europe):\n",
    "\n",
    "* 3 March of 2019 elections to the Municipal Councils,\n",
    "* 12 May of 2019  Presidential elections,\n",
    "* 26 May of 2019 elections to the European Parliament.\n",
    "\n",
    "This notebook aims to analyze historical election data and try to predict best strategy for 2019 elections."
   ]
  },
  {
   "cell_type": "markdown",
   "metadata": {},
   "source": [
    "## Import libraries"
   ]
  },
  {
   "cell_type": "code",
   "execution_count": 1,
   "metadata": {},
   "outputs": [],
   "source": [
    "import pandas as pd\n",
    "import numpy as np\n",
    "import matplotlib.pyplot as plt\n",
    "import seaborn as sns"
   ]
  },
  {
   "cell_type": "markdown",
   "metadata": {},
   "source": [
    "## Introduction\n",
    "\n",
    "Let's first compared Lithuania in the context of EU member states."
   ]
  },
  {
   "cell_type": "code",
   "execution_count": 15,
   "metadata": {},
   "outputs": [
    {
     "data": {
      "text/html": [
       "<div>\n",
       "<style scoped>\n",
       "    .dataframe tbody tr th:only-of-type {\n",
       "        vertical-align: middle;\n",
       "    }\n",
       "\n",
       "    .dataframe tbody tr th {\n",
       "        vertical-align: top;\n",
       "    }\n",
       "\n",
       "    .dataframe thead th {\n",
       "        text-align: right;\n",
       "    }\n",
       "</style>\n",
       "<table border=\"1\" class=\"dataframe\">\n",
       "  <thead>\n",
       "    <tr style=\"text-align: right;\">\n",
       "      <th></th>\n",
       "      <th>Country_name</th>\n",
       "      <th>Establish_year</th>\n",
       "      <th>Join_EU</th>\n",
       "      <th>Join_Schengen</th>\n",
       "      <th>Join_Euro</th>\n",
       "      <th>Population_1990</th>\n",
       "    </tr>\n",
       "  </thead>\n",
       "  <tbody>\n",
       "    <tr>\n",
       "      <th>0</th>\n",
       "      <td>Austria</td>\n",
       "      <td>1955</td>\n",
       "      <td>1995</td>\n",
       "      <td>1997.0</td>\n",
       "      <td>1999.0</td>\n",
       "      <td>7,707</td>\n",
       "    </tr>\n",
       "    <tr>\n",
       "      <th>1</th>\n",
       "      <td>Belgium</td>\n",
       "      <td>1919</td>\n",
       "      <td>1958</td>\n",
       "      <td>1995.0</td>\n",
       "      <td>1999.0</td>\n",
       "      <td>9,978</td>\n",
       "    </tr>\n",
       "    <tr>\n",
       "      <th>2</th>\n",
       "      <td>Bulgaria</td>\n",
       "      <td>1989</td>\n",
       "      <td>2007</td>\n",
       "      <td>NaN</td>\n",
       "      <td>NaN</td>\n",
       "      <td>8,821</td>\n",
       "    </tr>\n",
       "    <tr>\n",
       "      <th>3</th>\n",
       "      <td>Croatia</td>\n",
       "      <td>1991</td>\n",
       "      <td>2013</td>\n",
       "      <td>NaN</td>\n",
       "      <td>NaN</td>\n",
       "      <td>4,776</td>\n",
       "    </tr>\n",
       "    <tr>\n",
       "      <th>4</th>\n",
       "      <td>Cyprus</td>\n",
       "      <td>1960</td>\n",
       "      <td>2004</td>\n",
       "      <td>NaN</td>\n",
       "      <td>2008.0</td>\n",
       "      <td>767</td>\n",
       "    </tr>\n",
       "  </tbody>\n",
       "</table>\n",
       "</div>"
      ],
      "text/plain": [
       "  Country_name  Establish_year  Join_EU  Join_Schengen  Join_Euro  \\\n",
       "0      Austria            1955     1995         1997.0     1999.0   \n",
       "1      Belgium            1919     1958         1995.0     1999.0   \n",
       "2     Bulgaria            1989     2007            NaN        NaN   \n",
       "3      Croatia            1991     2013            NaN        NaN   \n",
       "4       Cyprus            1960     2004            NaN     2008.0   \n",
       "\n",
       "  Population_1990  \n",
       "0           7,707  \n",
       "1           9,978  \n",
       "2           8,821  \n",
       "3           4,776  \n",
       "4             767  "
      ]
     },
     "execution_count": 15,
     "metadata": {},
     "output_type": "execute_result"
    }
   ],
   "source": [
    "df_EU_members = pd.read_csv(\"EU_member_info.csv\")\n",
    "df_EU_members.head()"
   ]
  },
  {
   "cell_type": "markdown",
   "metadata": {},
   "source": [
    "Let's add new column, which categorizes countries by the time they joined EU: (i) founders, (ii) cold war era or (iii) post soviet collapse."
   ]
  },
  {
   "cell_type": "code",
   "execution_count": 16,
   "metadata": {},
   "outputs": [
    {
     "data": {
      "text/html": [
       "<div>\n",
       "<style scoped>\n",
       "    .dataframe tbody tr th:only-of-type {\n",
       "        vertical-align: middle;\n",
       "    }\n",
       "\n",
       "    .dataframe tbody tr th {\n",
       "        vertical-align: top;\n",
       "    }\n",
       "\n",
       "    .dataframe thead th {\n",
       "        text-align: right;\n",
       "    }\n",
       "</style>\n",
       "<table border=\"1\" class=\"dataframe\">\n",
       "  <thead>\n",
       "    <tr style=\"text-align: right;\">\n",
       "      <th></th>\n",
       "      <th>Country_name</th>\n",
       "      <th>Establish_year</th>\n",
       "      <th>Join_EU</th>\n",
       "      <th>Join_Schengen</th>\n",
       "      <th>Join_Euro</th>\n",
       "      <th>Population_1990</th>\n",
       "      <th>Join Period</th>\n",
       "    </tr>\n",
       "  </thead>\n",
       "  <tbody>\n",
       "    <tr>\n",
       "      <th>0</th>\n",
       "      <td>Austria</td>\n",
       "      <td>1955</td>\n",
       "      <td>1995</td>\n",
       "      <td>1997.0</td>\n",
       "      <td>1999.0</td>\n",
       "      <td>7,707</td>\n",
       "      <td>Post USSR collapse</td>\n",
       "    </tr>\n",
       "    <tr>\n",
       "      <th>1</th>\n",
       "      <td>Belgium</td>\n",
       "      <td>1919</td>\n",
       "      <td>1958</td>\n",
       "      <td>1995.0</td>\n",
       "      <td>1999.0</td>\n",
       "      <td>9,978</td>\n",
       "      <td>Founders</td>\n",
       "    </tr>\n",
       "    <tr>\n",
       "      <th>2</th>\n",
       "      <td>Bulgaria</td>\n",
       "      <td>1989</td>\n",
       "      <td>2007</td>\n",
       "      <td>NaN</td>\n",
       "      <td>NaN</td>\n",
       "      <td>8,821</td>\n",
       "      <td>Post USSR collapse</td>\n",
       "    </tr>\n",
       "    <tr>\n",
       "      <th>3</th>\n",
       "      <td>Croatia</td>\n",
       "      <td>1991</td>\n",
       "      <td>2013</td>\n",
       "      <td>NaN</td>\n",
       "      <td>NaN</td>\n",
       "      <td>4,776</td>\n",
       "      <td>Post USSR collapse</td>\n",
       "    </tr>\n",
       "    <tr>\n",
       "      <th>4</th>\n",
       "      <td>Cyprus</td>\n",
       "      <td>1960</td>\n",
       "      <td>2004</td>\n",
       "      <td>NaN</td>\n",
       "      <td>2008.0</td>\n",
       "      <td>767</td>\n",
       "      <td>Post USSR collapse</td>\n",
       "    </tr>\n",
       "  </tbody>\n",
       "</table>\n",
       "</div>"
      ],
      "text/plain": [
       "  Country_name  Establish_year  Join_EU  Join_Schengen  Join_Euro  \\\n",
       "0      Austria            1955     1995         1997.0     1999.0   \n",
       "1      Belgium            1919     1958         1995.0     1999.0   \n",
       "2     Bulgaria            1989     2007            NaN        NaN   \n",
       "3      Croatia            1991     2013            NaN        NaN   \n",
       "4       Cyprus            1960     2004            NaN     2008.0   \n",
       "\n",
       "  Population_1990         Join Period  \n",
       "0           7,707  Post USSR collapse  \n",
       "1           9,978            Founders  \n",
       "2           8,821  Post USSR collapse  \n",
       "3           4,776  Post USSR collapse  \n",
       "4             767  Post USSR collapse  "
      ]
     },
     "execution_count": 16,
     "metadata": {},
     "output_type": "execute_result"
    }
   ],
   "source": [
    "def join_period(year):\n",
    "    \"\"\"\n",
    "    Input:\n",
    "        year: integer, year country joined EU\n",
    "    Output:\n",
    "        period: string, period at which country joined EU\n",
    "    \"\"\"\n",
    "    if year == 1958:\n",
    "        return \"Founders\"\n",
    "    elif year < 1990:\n",
    "        return \"Cold War\"\n",
    "    else:\n",
    "        return \"Post USSR collapse\"\n",
    "        \n",
    "df_EU_members[\"Join Period\"] = df_EU_members['Join_EU'].apply(join_period)\n",
    "df_EU_members.head()"
   ]
  },
  {
   "cell_type": "code",
   "execution_count": 17,
   "metadata": {},
   "outputs": [
    {
     "data": {
      "image/png": "[encoded data removed]",
      "text/plain": [
       "<Figure size 1008x360 with 1 Axes>"
      ]
     },
     "metadata": {
      "needs_background": "light"
     },
     "output_type": "display_data"
    }
   ],
   "source": [
    "fig, ax = plt.subplots(figsize=(14, 5)) \n",
    "ax = sns.scatterplot(x=\"Join_EU\", y=\"Establish_year\", hue=\"Join Period\", data=df_EU_members,\n",
    "                     y_jitter=.2, hue_order=[\"Founders\", \"Cold War\", \"Post USSR collapse\"]);\n",
    "\n",
    "ax.legend(loc=4);"
   ]
  },
  {
   "cell_type": "code",
   "execution_count": 19,
   "metadata": {},
   "outputs": [
    {
     "data": {
      "text/html": [
       "<div>\n",
       "<style scoped>\n",
       "    .dataframe tbody tr th:only-of-type {\n",
       "        vertical-align: middle;\n",
       "    }\n",
       "\n",
       "    .dataframe tbody tr th {\n",
       "        vertical-align: top;\n",
       "    }\n",
       "\n",
       "    .dataframe thead th {\n",
       "        text-align: right;\n",
       "    }\n",
       "</style>\n",
       "<table border=\"1\" class=\"dataframe\">\n",
       "  <thead>\n",
       "    <tr style=\"text-align: right;\">\n",
       "      <th></th>\n",
       "      <th>Country_name</th>\n",
       "      <th>Establish_year</th>\n",
       "      <th>Join_EU</th>\n",
       "      <th>Join_Schengen</th>\n",
       "      <th>Join_Euro</th>\n",
       "      <th>Population_1990</th>\n",
       "      <th>Join Period</th>\n",
       "    </tr>\n",
       "  </thead>\n",
       "  <tbody>\n",
       "    <tr>\n",
       "      <th>27</th>\n",
       "      <td>United Kingdom</td>\n",
       "      <td>1800</td>\n",
       "      <td>1973</td>\n",
       "      <td>NaN</td>\n",
       "      <td>NaN</td>\n",
       "      <td>57,110</td>\n",
       "      <td>Cold War</td>\n",
       "    </tr>\n",
       "  </tbody>\n",
       "</table>\n",
       "</div>"
      ],
      "text/plain": [
       "      Country_name  Establish_year  Join_EU  Join_Schengen  Join_Euro  \\\n",
       "27  United Kingdom            1800     1973            NaN        NaN   \n",
       "\n",
       "   Population_1990 Join Period  \n",
       "27          57,110    Cold War  "
      ]
     },
     "execution_count": 19,
     "metadata": {},
     "output_type": "execute_result"
    }
   ],
   "source": [
    "df_EU_members[df_EU_members.Establish_year <1900]"
   ]
  },
  {
   "cell_type": "markdown",
   "metadata": {},
   "source": [
    "There is an outlier with Democracy year 1800. Not suprisingly it is United Kingdom."
   ]
  },
  {
   "cell_type": "code",
   "execution_count": 23,
   "metadata": {},
   "outputs": [
    {
     "data": {
      "image/png": "[encoded data removed]",
      "text/plain": [
       "<Figure size 864x360 with 1 Axes>"
      ]
     },
     "metadata": {
      "needs_background": "light"
     },
     "output_type": "display_data"
    }
   ],
   "source": [
    "fig, ax = plt.subplots(figsize=(12, 5)) \n",
    "\n",
    "# make regplot tickers very small\n",
    "ax = sns.regplot(x=\"Join_EU\", y=\"Establish_year\", scatter_kws={'s':0.2}, color='#808080',\n",
    "                 data=df_EU_members[df_EU_members.Establish_year>1900])\n",
    "ax = sns.scatterplot(x=\"Join_EU\", y=\"Establish_year\", hue=\"Join Period\", palette=\"colorblind\",\n",
    "                     data=df_EU_members[df_EU_members.Establish_year>1900],\n",
    "                     hue_order=[\"Founders\", \"Cold War\", \"Post USSR collapse\"]);\n",
    "\n",
    "ax.set_ylabel(\"Year modern state was established/restored\", fontsize=12)\n",
    "ax.set_xlabel(\"Year country joined EU\", fontsize=12)\n",
    "ax.set_xlim(1955,2015);\n",
    "fig.savefig(\"fig_1_eu_members.svg\", dpi=300, format='svg')"
   ]
  },
  {
   "cell_type": "code",
   "execution_count": null,
   "metadata": {},
   "outputs": [],
   "source": []
  }
 ],
 "metadata": {
  "kernelspec": {
   "display_name": "Python 3",
   "language": "python",
   "name": "python3"
  },
  "language_info": {
   "codemirror_mode": {
    "name": "ipython",
    "version": 3
   },
   "file_extension": ".py",
   "mimetype": "text/x-python",
   "name": "python",
   "nbconvert_exporter": "python",
   "pygments_lexer": "ipython3",
   "version": "3.6.6"
  }
 },
 "nbformat": 4,
 "nbformat_minor": 1
}
